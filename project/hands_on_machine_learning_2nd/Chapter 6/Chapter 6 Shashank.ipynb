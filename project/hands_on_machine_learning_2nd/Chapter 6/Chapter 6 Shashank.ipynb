{
 "cells": [
  {
   "cell_type": "markdown",
   "source": [
    "# Decision Trees\n",
    "\n",
    "Using weight, age, and height to determine clothing size. \n",
    "\n",
    "Data Source: https://www.kaggle.com/tourist55/clothessizeprediction"
   ],
   "metadata": {}
  },
  {
   "cell_type": "code",
   "execution_count": 153,
   "source": [
    "import pandas as pd\n",
    "from sklearn.datasets import load_iris\n",
    "from sklearn.tree import DecisionTreeClassifier, export_graphviz\n",
    "from sklearn.model_selection import train_test_split\n",
    "from sklearn.metrics import confusion_matrix, plot_confusion_matrix\n",
    "import matplotlib.pyplot as plt"
   ],
   "outputs": [],
   "metadata": {}
  },
  {
   "cell_type": "code",
   "execution_count": 154,
   "source": [
    "data_import = pd.read_csv(\"clothing_size.csv\")\n",
    "data_import"
   ],
   "outputs": [
    {
     "output_type": "execute_result",
     "data": {
      "text/plain": [
       "        weight   age  height size\n",
       "0           62  28.0  172.72   XL\n",
       "1           59  36.0  167.64    L\n",
       "2           61  34.0  165.10    M\n",
       "3           65  27.0  175.26    L\n",
       "4           62  45.0  172.72    M\n",
       "...        ...   ...     ...  ...\n",
       "119729      63  42.0  175.26    M\n",
       "119730      45  29.0  154.94    S\n",
       "119731      61  31.0  172.72    M\n",
       "119732      74  31.0  167.64   XL\n",
       "119733      70  30.0  167.64   XL\n",
       "\n",
       "[119734 rows x 4 columns]"
      ],
      "text/html": [
       "<div>\n",
       "<style scoped>\n",
       "    .dataframe tbody tr th:only-of-type {\n",
       "        vertical-align: middle;\n",
       "    }\n",
       "\n",
       "    .dataframe tbody tr th {\n",
       "        vertical-align: top;\n",
       "    }\n",
       "\n",
       "    .dataframe thead th {\n",
       "        text-align: right;\n",
       "    }\n",
       "</style>\n",
       "<table border=\"1\" class=\"dataframe\">\n",
       "  <thead>\n",
       "    <tr style=\"text-align: right;\">\n",
       "      <th></th>\n",
       "      <th>weight</th>\n",
       "      <th>age</th>\n",
       "      <th>height</th>\n",
       "      <th>size</th>\n",
       "    </tr>\n",
       "  </thead>\n",
       "  <tbody>\n",
       "    <tr>\n",
       "      <th>0</th>\n",
       "      <td>62</td>\n",
       "      <td>28.0</td>\n",
       "      <td>172.72</td>\n",
       "      <td>XL</td>\n",
       "    </tr>\n",
       "    <tr>\n",
       "      <th>1</th>\n",
       "      <td>59</td>\n",
       "      <td>36.0</td>\n",
       "      <td>167.64</td>\n",
       "      <td>L</td>\n",
       "    </tr>\n",
       "    <tr>\n",
       "      <th>2</th>\n",
       "      <td>61</td>\n",
       "      <td>34.0</td>\n",
       "      <td>165.10</td>\n",
       "      <td>M</td>\n",
       "    </tr>\n",
       "    <tr>\n",
       "      <th>3</th>\n",
       "      <td>65</td>\n",
       "      <td>27.0</td>\n",
       "      <td>175.26</td>\n",
       "      <td>L</td>\n",
       "    </tr>\n",
       "    <tr>\n",
       "      <th>4</th>\n",
       "      <td>62</td>\n",
       "      <td>45.0</td>\n",
       "      <td>172.72</td>\n",
       "      <td>M</td>\n",
       "    </tr>\n",
       "    <tr>\n",
       "      <th>...</th>\n",
       "      <td>...</td>\n",
       "      <td>...</td>\n",
       "      <td>...</td>\n",
       "      <td>...</td>\n",
       "    </tr>\n",
       "    <tr>\n",
       "      <th>119729</th>\n",
       "      <td>63</td>\n",
       "      <td>42.0</td>\n",
       "      <td>175.26</td>\n",
       "      <td>M</td>\n",
       "    </tr>\n",
       "    <tr>\n",
       "      <th>119730</th>\n",
       "      <td>45</td>\n",
       "      <td>29.0</td>\n",
       "      <td>154.94</td>\n",
       "      <td>S</td>\n",
       "    </tr>\n",
       "    <tr>\n",
       "      <th>119731</th>\n",
       "      <td>61</td>\n",
       "      <td>31.0</td>\n",
       "      <td>172.72</td>\n",
       "      <td>M</td>\n",
       "    </tr>\n",
       "    <tr>\n",
       "      <th>119732</th>\n",
       "      <td>74</td>\n",
       "      <td>31.0</td>\n",
       "      <td>167.64</td>\n",
       "      <td>XL</td>\n",
       "    </tr>\n",
       "    <tr>\n",
       "      <th>119733</th>\n",
       "      <td>70</td>\n",
       "      <td>30.0</td>\n",
       "      <td>167.64</td>\n",
       "      <td>XL</td>\n",
       "    </tr>\n",
       "  </tbody>\n",
       "</table>\n",
       "<p>119734 rows × 4 columns</p>\n",
       "</div>"
      ]
     },
     "metadata": {},
     "execution_count": 154
    }
   ],
   "metadata": {}
  },
  {
   "cell_type": "markdown",
   "source": [
    "## Basic EDA"
   ],
   "metadata": {}
  },
  {
   "cell_type": "code",
   "execution_count": 155,
   "source": [
    "# Explore the distribution of size data (Idea from: https://www.kaggle.com/mogrim/clothes-size-random-forest-and-decision-tree)\n",
    "\n",
    "data_import[\"size\"].value_counts()"
   ],
   "outputs": [
    {
     "output_type": "execute_result",
     "data": {
      "text/plain": [
       "M       29712\n",
       "S       21924\n",
       "XXXL    21359\n",
       "XL      19119\n",
       "L       17587\n",
       "XXS      9964\n",
       "XXL        69\n",
       "Name: size, dtype: int64"
      ]
     },
     "metadata": {},
     "execution_count": 155
    }
   ],
   "metadata": {}
  },
  {
   "cell_type": "markdown",
   "source": [
    "## Data Preparation"
   ],
   "metadata": {}
  },
  {
   "cell_type": "markdown",
   "source": [
    "### Dealing with NA\n",
    "\n",
    "There are over 100K records here, so we'll just drop NA values"
   ],
   "metadata": {}
  },
  {
   "cell_type": "code",
   "execution_count": 156,
   "source": [
    "data_step_one = data_import.copy()\n",
    "\n",
    "data_step_one = data_step_one.dropna(axis=0)\n",
    "\n",
    "dropped_rows = len(data_import) - len(data_step_one)\n",
    "\n",
    "print(\"Rows Dropped: \", dropped_rows)"
   ],
   "outputs": [
    {
     "output_type": "stream",
     "name": "stdout",
     "text": [
      "Rows Dropped:  581\n"
     ]
    }
   ],
   "metadata": {}
  },
  {
   "cell_type": "markdown",
   "source": [
    "We'll also drop the XXL records since we don't have a representative amount of this data"
   ],
   "metadata": {}
  },
  {
   "cell_type": "code",
   "execution_count": 157,
   "source": [
    "data_step_one = data_step_one[data_step_one[\"size\"] != \"XXL\"]\n",
    "data_step_one"
   ],
   "outputs": [
    {
     "output_type": "execute_result",
     "data": {
      "text/plain": [
       "        weight   age  height size\n",
       "0           62  28.0  172.72   XL\n",
       "1           59  36.0  167.64    L\n",
       "2           61  34.0  165.10    M\n",
       "3           65  27.0  175.26    L\n",
       "4           62  45.0  172.72    M\n",
       "...        ...   ...     ...  ...\n",
       "119729      63  42.0  175.26    M\n",
       "119730      45  29.0  154.94    S\n",
       "119731      61  31.0  172.72    M\n",
       "119732      74  31.0  167.64   XL\n",
       "119733      70  30.0  167.64   XL\n",
       "\n",
       "[119084 rows x 4 columns]"
      ],
      "text/html": [
       "<div>\n",
       "<style scoped>\n",
       "    .dataframe tbody tr th:only-of-type {\n",
       "        vertical-align: middle;\n",
       "    }\n",
       "\n",
       "    .dataframe tbody tr th {\n",
       "        vertical-align: top;\n",
       "    }\n",
       "\n",
       "    .dataframe thead th {\n",
       "        text-align: right;\n",
       "    }\n",
       "</style>\n",
       "<table border=\"1\" class=\"dataframe\">\n",
       "  <thead>\n",
       "    <tr style=\"text-align: right;\">\n",
       "      <th></th>\n",
       "      <th>weight</th>\n",
       "      <th>age</th>\n",
       "      <th>height</th>\n",
       "      <th>size</th>\n",
       "    </tr>\n",
       "  </thead>\n",
       "  <tbody>\n",
       "    <tr>\n",
       "      <th>0</th>\n",
       "      <td>62</td>\n",
       "      <td>28.0</td>\n",
       "      <td>172.72</td>\n",
       "      <td>XL</td>\n",
       "    </tr>\n",
       "    <tr>\n",
       "      <th>1</th>\n",
       "      <td>59</td>\n",
       "      <td>36.0</td>\n",
       "      <td>167.64</td>\n",
       "      <td>L</td>\n",
       "    </tr>\n",
       "    <tr>\n",
       "      <th>2</th>\n",
       "      <td>61</td>\n",
       "      <td>34.0</td>\n",
       "      <td>165.10</td>\n",
       "      <td>M</td>\n",
       "    </tr>\n",
       "    <tr>\n",
       "      <th>3</th>\n",
       "      <td>65</td>\n",
       "      <td>27.0</td>\n",
       "      <td>175.26</td>\n",
       "      <td>L</td>\n",
       "    </tr>\n",
       "    <tr>\n",
       "      <th>4</th>\n",
       "      <td>62</td>\n",
       "      <td>45.0</td>\n",
       "      <td>172.72</td>\n",
       "      <td>M</td>\n",
       "    </tr>\n",
       "    <tr>\n",
       "      <th>...</th>\n",
       "      <td>...</td>\n",
       "      <td>...</td>\n",
       "      <td>...</td>\n",
       "      <td>...</td>\n",
       "    </tr>\n",
       "    <tr>\n",
       "      <th>119729</th>\n",
       "      <td>63</td>\n",
       "      <td>42.0</td>\n",
       "      <td>175.26</td>\n",
       "      <td>M</td>\n",
       "    </tr>\n",
       "    <tr>\n",
       "      <th>119730</th>\n",
       "      <td>45</td>\n",
       "      <td>29.0</td>\n",
       "      <td>154.94</td>\n",
       "      <td>S</td>\n",
       "    </tr>\n",
       "    <tr>\n",
       "      <th>119731</th>\n",
       "      <td>61</td>\n",
       "      <td>31.0</td>\n",
       "      <td>172.72</td>\n",
       "      <td>M</td>\n",
       "    </tr>\n",
       "    <tr>\n",
       "      <th>119732</th>\n",
       "      <td>74</td>\n",
       "      <td>31.0</td>\n",
       "      <td>167.64</td>\n",
       "      <td>XL</td>\n",
       "    </tr>\n",
       "    <tr>\n",
       "      <th>119733</th>\n",
       "      <td>70</td>\n",
       "      <td>30.0</td>\n",
       "      <td>167.64</td>\n",
       "      <td>XL</td>\n",
       "    </tr>\n",
       "  </tbody>\n",
       "</table>\n",
       "<p>119084 rows × 4 columns</p>\n",
       "</div>"
      ]
     },
     "metadata": {},
     "execution_count": 157
    }
   ],
   "metadata": {}
  },
  {
   "cell_type": "markdown",
   "source": [
    "### Train Test Split"
   ],
   "metadata": {}
  },
  {
   "cell_type": "code",
   "execution_count": 158,
   "source": [
    "X = data_step_one[[\"weight\", \"age\", \"height\"]]\n",
    "y = data_step_one[\"size\"]"
   ],
   "outputs": [],
   "metadata": {}
  },
  {
   "cell_type": "code",
   "execution_count": 159,
   "source": [
    "X_train, X_test, y_train, y_test = train_test_split(X, y, test_size=0.33)"
   ],
   "outputs": [],
   "metadata": {}
  },
  {
   "cell_type": "markdown",
   "source": [
    "## Modeling"
   ],
   "metadata": {}
  },
  {
   "cell_type": "markdown",
   "source": [
    "### Single Run"
   ],
   "metadata": {}
  },
  {
   "cell_type": "code",
   "execution_count": 160,
   "source": [
    "def decision_tree_run(depth):\n",
    "    tree_clf = DecisionTreeClassifier(max_depth=depth)\n",
    "    tree_clf.fit(X_train, y_train)\n",
    "    return tree_clf.score(X_test, y_test)\n",
    "decision_tree_run(None)"
   ],
   "outputs": [
    {
     "output_type": "execute_result",
     "data": {
      "text/plain": [
       "0.4997200875362614"
      ]
     },
     "metadata": {},
     "execution_count": 160
    }
   ],
   "metadata": {}
  },
  {
   "cell_type": "markdown",
   "source": [
    "### Multiple Runs with Different Tree Depths"
   ],
   "metadata": {}
  },
  {
   "cell_type": "code",
   "execution_count": 161,
   "source": [
    "accuracy = []\n",
    "tree_depth = list(range(2, 100, 3))"
   ],
   "outputs": [],
   "metadata": {}
  },
  {
   "cell_type": "code",
   "execution_count": 162,
   "source": [
    "for i in tree_depth:\n",
    "    accuracy.append(decision_tree_run(i))\n",
    "accuracy"
   ],
   "outputs": [
    {
     "output_type": "execute_result",
     "data": {
      "text/plain": [
       "[0.4467402921268258,\n",
       " 0.4975062344139651,\n",
       " 0.5133085653213904,\n",
       " 0.5143009822382818,\n",
       " 0.5059799480889613,\n",
       " 0.5018067077204946,\n",
       " 0.5,\n",
       " 0.4997200875362614,\n",
       " 0.49977098071148657,\n",
       " 0.49961830118581096,\n",
       " 0.499745534123874,\n",
       " 0.49977098071148657,\n",
       " 0.49992366023716217,\n",
       " 0.49959285459819835,\n",
       " 0.5000254465876126,\n",
       " 0.499745534123874,\n",
       " 0.499872767061937,\n",
       " 0.4997964272990992,\n",
       " 0.49961830118581096,\n",
       " 0.4996946409486488,\n",
       " 0.4997200875362614,\n",
       " 0.4999745534123874,\n",
       " 0.49961830118581096,\n",
       " 0.4997964272990992,\n",
       " 0.4997964272990992,\n",
       " 0.4996437477734236,\n",
       " 0.49949106824774797,\n",
       " 0.5,\n",
       " 0.499745534123874,\n",
       " 0.4998982136495496,\n",
       " 0.4997200875362614,\n",
       " 0.4997964272990992,\n",
       " 0.4997200875362614]"
      ]
     },
     "metadata": {},
     "execution_count": 162
    }
   ],
   "metadata": {}
  },
  {
   "cell_type": "code",
   "execution_count": 163,
   "source": [
    "plt.plot(tree_depth, accuracy)"
   ],
   "outputs": [
    {
     "output_type": "execute_result",
     "data": {
      "text/plain": [
       "[<matplotlib.lines.Line2D at 0x7fb522d87100>]"
      ]
     },
     "metadata": {},
     "execution_count": 163
    },
    {
     "output_type": "display_data",
     "data": {
      "text/plain": [
       "<Figure size 432x288 with 1 Axes>"
      ],
      "image/png": "[encoded data removed]"
     },
     "metadata": {
      "needs_background": "light"
     }
    }
   ],
   "metadata": {}
  },
  {
   "cell_type": "code",
   "execution_count": 164,
   "source": [
    "results = pd.DataFrame(data = {\"Predictions\":tree_clf.predict(X_test).tolist(), \"Actuals\": y_test.to_list()})\n",
    "results[\"Matching\"] = results.apply(lambda x: \"Correct\" if x[\"Predictions\"] == x[\"Actuals\"] else \"Wrong\", axis=1)"
   ],
   "outputs": [],
   "metadata": {}
  },
  {
   "cell_type": "markdown",
   "source": [
    "## Evaluation"
   ],
   "metadata": {}
  },
  {
   "cell_type": "markdown",
   "source": [
    "### Decision Tree Graph"
   ],
   "metadata": {}
  },
  {
   "cell_type": "code",
   "execution_count": 165,
   "source": [
    "tree_clf = DecisionTreeClassifier(max_depth=5)\n",
    "tree_clf.fit(X_train, y_train)\n",
    "\n",
    "export_graphviz(\n",
    "    tree_clf,\n",
    "    out_file=\"iris_tree.dot\",\n",
    "    feature_names = X_train.columns,\n",
    "    rounded=True,\n",
    "    filled=True\n",
    ")"
   ],
   "outputs": [],
   "metadata": {}
  },
  {
   "cell_type": "code",
   "execution_count": 166,
   "source": [
    "results = pd.DataFrame(data = {\"Predictions\":tree_clf.predict(X_test).tolist(), \"Actuals\": y_test.to_list()})\n",
    "results[\"Matching\"] = results.apply(lambda x: \"Correct\" if x[\"Predictions\"] == x[\"Actuals\"] else \"Wrong\", axis=1)\n",
    "results"
   ],
   "outputs": [
    {
     "output_type": "execute_result",
     "data": {
      "text/plain": [
       "      Predictions Actuals Matching\n",
       "0               M       M  Correct\n",
       "1            XXXL    XXXL  Correct\n",
       "2               S       S  Correct\n",
       "3               S     XXS    Wrong\n",
       "4               M       S    Wrong\n",
       "...           ...     ...      ...\n",
       "39293           M       L    Wrong\n",
       "39294           S       S  Correct\n",
       "39295           M       M  Correct\n",
       "39296          XL    XXXL    Wrong\n",
       "39297          XL    XXXL    Wrong\n",
       "\n",
       "[39298 rows x 3 columns]"
      ],
      "text/html": [
       "<div>\n",
       "<style scoped>\n",
       "    .dataframe tbody tr th:only-of-type {\n",
       "        vertical-align: middle;\n",
       "    }\n",
       "\n",
       "    .dataframe tbody tr th {\n",
       "        vertical-align: top;\n",
       "    }\n",
       "\n",
       "    .dataframe thead th {\n",
       "        text-align: right;\n",
       "    }\n",
       "</style>\n",
       "<table border=\"1\" class=\"dataframe\">\n",
       "  <thead>\n",
       "    <tr style=\"text-align: right;\">\n",
       "      <th></th>\n",
       "      <th>Predictions</th>\n",
       "      <th>Actuals</th>\n",
       "      <th>Matching</th>\n",
       "    </tr>\n",
       "  </thead>\n",
       "  <tbody>\n",
       "    <tr>\n",
       "      <th>0</th>\n",
       "      <td>M</td>\n",
       "      <td>M</td>\n",
       "      <td>Correct</td>\n",
       "    </tr>\n",
       "    <tr>\n",
       "      <th>1</th>\n",
       "      <td>XXXL</td>\n",
       "      <td>XXXL</td>\n",
       "      <td>Correct</td>\n",
       "    </tr>\n",
       "    <tr>\n",
       "      <th>2</th>\n",
       "      <td>S</td>\n",
       "      <td>S</td>\n",
       "      <td>Correct</td>\n",
       "    </tr>\n",
       "    <tr>\n",
       "      <th>3</th>\n",
       "      <td>S</td>\n",
       "      <td>XXS</td>\n",
       "      <td>Wrong</td>\n",
       "    </tr>\n",
       "    <tr>\n",
       "      <th>4</th>\n",
       "      <td>M</td>\n",
       "      <td>S</td>\n",
       "      <td>Wrong</td>\n",
       "    </tr>\n",
       "    <tr>\n",
       "      <th>...</th>\n",
       "      <td>...</td>\n",
       "      <td>...</td>\n",
       "      <td>...</td>\n",
       "    </tr>\n",
       "    <tr>\n",
       "      <th>39293</th>\n",
       "      <td>M</td>\n",
       "      <td>L</td>\n",
       "      <td>Wrong</td>\n",
       "    </tr>\n",
       "    <tr>\n",
       "      <th>39294</th>\n",
       "      <td>S</td>\n",
       "      <td>S</td>\n",
       "      <td>Correct</td>\n",
       "    </tr>\n",
       "    <tr>\n",
       "      <th>39295</th>\n",
       "      <td>M</td>\n",
       "      <td>M</td>\n",
       "      <td>Correct</td>\n",
       "    </tr>\n",
       "    <tr>\n",
       "      <th>39296</th>\n",
       "      <td>XL</td>\n",
       "      <td>XXXL</td>\n",
       "      <td>Wrong</td>\n",
       "    </tr>\n",
       "    <tr>\n",
       "      <th>39297</th>\n",
       "      <td>XL</td>\n",
       "      <td>XXXL</td>\n",
       "      <td>Wrong</td>\n",
       "    </tr>\n",
       "  </tbody>\n",
       "</table>\n",
       "<p>39298 rows × 3 columns</p>\n",
       "</div>"
      ]
     },
     "metadata": {},
     "execution_count": 166
    }
   ],
   "metadata": {}
  },
  {
   "cell_type": "code",
   "execution_count": 167,
   "source": [
    "correct_wrong_data = results.groupby([\"Actuals\", \"Matching\"])[\"Predictions\"].count().reset_index()\n",
    "correct_wrong_data[\"Labels\"] = correct_wrong_data[\"Actuals\"] + \" - \" + correct_wrong_data[\"Matching\"]\n",
    "correct_wrong_data[\"Colors\"] = correct_wrong_data[\"Matching\"].map(lambda x: \"b\" if x == \"Correct\" else \"r\")\n",
    "correct_wrong_data"
   ],
   "outputs": [
    {
     "output_type": "execute_result",
     "data": {
      "text/plain": [
       "   Actuals Matching  Predictions          Labels Colors\n",
       "0        L  Correct         2371     L - Correct      b\n",
       "1        L    Wrong         3385       L - Wrong      r\n",
       "2        M  Correct         6178     M - Correct      b\n",
       "3        M    Wrong         3493       M - Wrong      r\n",
       "4        S  Correct         3985     S - Correct      b\n",
       "5        S    Wrong         3250       S - Wrong      r\n",
       "6       XL  Correct         2916    XL - Correct      b\n",
       "7       XL    Wrong         3349      XL - Wrong      r\n",
       "8      XXS  Correct         1493   XXS - Correct      b\n",
       "9      XXS    Wrong         1864     XXS - Wrong      r\n",
       "10    XXXL  Correct         5332  XXXL - Correct      b\n",
       "11    XXXL    Wrong         1682    XXXL - Wrong      r"
      ],
      "text/html": [
       "<div>\n",
       "<style scoped>\n",
       "    .dataframe tbody tr th:only-of-type {\n",
       "        vertical-align: middle;\n",
       "    }\n",
       "\n",
       "    .dataframe tbody tr th {\n",
       "        vertical-align: top;\n",
       "    }\n",
       "\n",
       "    .dataframe thead th {\n",
       "        text-align: right;\n",
       "    }\n",
       "</style>\n",
       "<table border=\"1\" class=\"dataframe\">\n",
       "  <thead>\n",
       "    <tr style=\"text-align: right;\">\n",
       "      <th></th>\n",
       "      <th>Actuals</th>\n",
       "      <th>Matching</th>\n",
       "      <th>Predictions</th>\n",
       "      <th>Labels</th>\n",
       "      <th>Colors</th>\n",
       "    </tr>\n",
       "  </thead>\n",
       "  <tbody>\n",
       "    <tr>\n",
       "      <th>0</th>\n",
       "      <td>L</td>\n",
       "      <td>Correct</td>\n",
       "      <td>2371</td>\n",
       "      <td>L - Correct</td>\n",
       "      <td>b</td>\n",
       "    </tr>\n",
       "    <tr>\n",
       "      <th>1</th>\n",
       "      <td>L</td>\n",
       "      <td>Wrong</td>\n",
       "      <td>3385</td>\n",
       "      <td>L - Wrong</td>\n",
       "      <td>r</td>\n",
       "    </tr>\n",
       "    <tr>\n",
       "      <th>2</th>\n",
       "      <td>M</td>\n",
       "      <td>Correct</td>\n",
       "      <td>6178</td>\n",
       "      <td>M - Correct</td>\n",
       "      <td>b</td>\n",
       "    </tr>\n",
       "    <tr>\n",
       "      <th>3</th>\n",
       "      <td>M</td>\n",
       "      <td>Wrong</td>\n",
       "      <td>3493</td>\n",
       "      <td>M - Wrong</td>\n",
       "      <td>r</td>\n",
       "    </tr>\n",
       "    <tr>\n",
       "      <th>4</th>\n",
       "      <td>S</td>\n",
       "      <td>Correct</td>\n",
       "      <td>3985</td>\n",
       "      <td>S - Correct</td>\n",
       "      <td>b</td>\n",
       "    </tr>\n",
       "    <tr>\n",
       "      <th>5</th>\n",
       "      <td>S</td>\n",
       "      <td>Wrong</td>\n",
       "      <td>3250</td>\n",
       "      <td>S - Wrong</td>\n",
       "      <td>r</td>\n",
       "    </tr>\n",
       "    <tr>\n",
       "      <th>6</th>\n",
       "      <td>XL</td>\n",
       "      <td>Correct</td>\n",
       "      <td>2916</td>\n",
       "      <td>XL - Correct</td>\n",
       "      <td>b</td>\n",
       "    </tr>\n",
       "    <tr>\n",
       "      <th>7</th>\n",
       "      <td>XL</td>\n",
       "      <td>Wrong</td>\n",
       "      <td>3349</td>\n",
       "      <td>XL - Wrong</td>\n",
       "      <td>r</td>\n",
       "    </tr>\n",
       "    <tr>\n",
       "      <th>8</th>\n",
       "      <td>XXS</td>\n",
       "      <td>Correct</td>\n",
       "      <td>1493</td>\n",
       "      <td>XXS - Correct</td>\n",
       "      <td>b</td>\n",
       "    </tr>\n",
       "    <tr>\n",
       "      <th>9</th>\n",
       "      <td>XXS</td>\n",
       "      <td>Wrong</td>\n",
       "      <td>1864</td>\n",
       "      <td>XXS - Wrong</td>\n",
       "      <td>r</td>\n",
       "    </tr>\n",
       "    <tr>\n",
       "      <th>10</th>\n",
       "      <td>XXXL</td>\n",
       "      <td>Correct</td>\n",
       "      <td>5332</td>\n",
       "      <td>XXXL - Correct</td>\n",
       "      <td>b</td>\n",
       "    </tr>\n",
       "    <tr>\n",
       "      <th>11</th>\n",
       "      <td>XXXL</td>\n",
       "      <td>Wrong</td>\n",
       "      <td>1682</td>\n",
       "      <td>XXXL - Wrong</td>\n",
       "      <td>r</td>\n",
       "    </tr>\n",
       "  </tbody>\n",
       "</table>\n",
       "</div>"
      ]
     },
     "metadata": {},
     "execution_count": 167
    }
   ],
   "metadata": {}
  },
  {
   "cell_type": "code",
   "execution_count": 168,
   "source": [
    "plt.figure(figsize=(18, 6))\n",
    "fig = plt.bar(x=correct_wrong_data[\"Labels\"], height=correct_wrong_data[\"Predictions\"], color=correct_wrong_data[\"Colors\"])\n",
    "fig"
   ],
   "outputs": [
    {
     "output_type": "execute_result",
     "data": {
      "text/plain": [
       "<BarContainer object of 12 artists>"
      ]
     },
     "metadata": {},
     "execution_count": 168
    },
    {
     "output_type": "display_data",
     "data": {
      "text/plain": [
       "<Figure size 1296x432 with 1 Axes>"
      ],
      "image/png": "[encoded data removed]"
     },
     "metadata": {
      "needs_background": "light"
     }
    }
   ],
   "metadata": {}
  },
  {
   "cell_type": "code",
   "execution_count": 169,
   "source": [
    "confusion_matrix(y_test, tree_clf.predict(X_test).tolist(), labels=y_test.unique())"
   ],
   "outputs": [
    {
     "output_type": "execute_result",
     "data": {
      "text/plain": [
       "array([[6178,  112, 1552,  154,  445, 1230],\n",
       "       [ 188, 5332,   18,    5, 1144,  327],\n",
       "       [2266,   17, 3985,  672,   63,  232],\n",
       "       [ 413,    3, 1427, 1493,    5,   16],\n",
       "       [1040,  932,  123,    8, 2916, 1246],\n",
       "       [1894,  240,  189,   21, 1041, 2371]])"
      ]
     },
     "metadata": {},
     "execution_count": 169
    }
   ],
   "metadata": {}
  },
  {
   "cell_type": "code",
   "execution_count": 170,
   "source": [
    "plot_confusion_matrix(tree_clf, X_test, y_test)"
   ],
   "outputs": [
    {
     "output_type": "execute_result",
     "data": {
      "text/plain": [
       "<sklearn.metrics._plot.confusion_matrix.ConfusionMatrixDisplay at 0x7fb53d5a4820>"
      ]
     },
     "metadata": {},
     "execution_count": 170
    },
    {
     "output_type": "display_data",
     "data": {
      "text/plain": [
       "<Figure size 432x288 with 2 Axes>"
      ],
      "image/png": "[encoded data removed]"
     },
     "metadata": {
      "needs_background": "light"
     }
    }
   ],
   "metadata": {}
  }
 ],
 "metadata": {
  "orig_nbformat": 4,
  "language_info": {
   "name": "python",
   "version": "3.8.8",
   "mimetype": "text/x-python",
   "codemirror_mode": {
    "name": "ipython",
    "version": 3
   },
   "pygments_lexer": "ipython3",
   "nbconvert_exporter": "python",
   "file_extension": ".py"
  },
  "kernelspec": {
   "name": "python3",
   "display_name": "Python 3.8.8 64-bit ('minimal_ds': conda)"
  },
  "interpreter": {
   "hash": "8c8ddd27e64e4dc8cecdef6b2dd18aa6e5d748d6b7d639627995056072287257"
  }
 },
 "nbformat": 4,
 "nbformat_minor": 2
}